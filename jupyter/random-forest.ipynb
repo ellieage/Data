{
 "cells": [
  {
   "cell_type": "code",
   "execution_count": 4,
   "metadata": {
    "collapsed": false
   },
   "outputs": [],
   "source": [
    "from sqlalchemy import create_engine\n",
    "from sklearn import ensemble, metrics\n",
    "from IPython.display import Image\n",
    "from subprocess import check_call\n",
    "from pandas import *\n",
    "import numpy\n",
    "import matplotlib.pylab as plot\n",
    "\n",
    "%matplotlib inline"
   ]
  },
  {
   "cell_type": "code",
   "execution_count": 5,
   "metadata": {
    "collapsed": false
   },
   "outputs": [],
   "source": [
    "# Connect to Postgres\n",
    "rdbms = 'postgresql'\n",
    "host = 'localhost'\n",
    "port = '5432'\n",
    "database = 'jupyter'\n",
    "user = 'jupyter'\n",
    "password = 'jupyter'\n",
    "\n",
    "credentials = (rdbms, user, password, host, port, database)\n",
    "connection_string = \"%s://%s:%s@%s:%s/%s\" % credentials\n",
    "engine = create_engine(connection_string)"
   ]
  },
  {
   "cell_type": "code",
   "execution_count": 6,
   "metadata": {
    "collapsed": true
   },
   "outputs": [],
   "source": [
    "# Load data from Postgres to dataframe\n",
    "query = \"\"\"\n",
    "  select *\n",
    "  from iris\n",
    "\"\"\"\n",
    "iris_data = pandas.read_sql_query(query, con=engine)"
   ]
  },
  {
   "cell_type": "code",
   "execution_count": 7,
   "metadata": {
    "collapsed": true
   },
   "outputs": [],
   "source": [
    "# Create dummy variables for categories\n",
    "code = {\n",
    "    'Iris-setosa': 0,\n",
    "    'Iris-virginica': 1,\n",
    "    'Iris-versicolor': 2\n",
    "}\n",
    "iris_data['code'] = iris_data['class'].apply(lambda x: code[x])"
   ]
  },
  {
   "cell_type": "code",
   "execution_count": 8,
   "metadata": {
    "collapsed": true
   },
   "outputs": [],
   "source": [
    "# Select training, test data\n",
    "training = iris_data.sample(120)\n",
    "test = iris_data.drop(training.index.values)"
   ]
  },
  {
   "cell_type": "code",
   "execution_count": 9,
   "metadata": {
    "collapsed": true
   },
   "outputs": [],
   "source": [
    "# Massage training data into numpy arrays\n",
    "dimensions = training.columns.values[:4]\n",
    "training_data = training.as_matrix(dimensions)\n",
    "training_target = training['class'].values"
   ]
  },
  {
   "cell_type": "code",
   "execution_count": 10,
   "metadata": {
    "collapsed": false
   },
   "outputs": [],
   "source": [
    "# Massage test data into numpy arrays\n",
    "dimensions = test.columns.values[:4]\n",
    "test_data = test.as_matrix(dimensions)\n",
    "test_target = test['class'].values"
   ]
  },
  {
   "cell_type": "code",
   "execution_count": 15,
   "metadata": {
    "collapsed": false
   },
   "outputs": [
    {
     "data": {
      "text/plain": [
       "RandomForestClassifier(bootstrap=True, class_weight=None, criterion='gini',\n",
       "            max_depth=None, max_features='auto', max_leaf_nodes=None,\n",
       "            min_samples_leaf=1, min_samples_split=2,\n",
       "            min_weight_fraction_leaf=0.0, n_estimators=1000, n_jobs=1,\n",
       "            oob_score=False, random_state=0, verbose=0, warm_start=False)"
      ]
     },
     "execution_count": 15,
     "metadata": {},
     "output_type": "execute_result"
    }
   ],
   "source": [
    "# Train random forest\n",
    "classifier_settings = {\n",
    "    'n_estimators': 1000,\n",
    "    'min_samples_split': 2,\n",
    "    'max_depth': None,\n",
    "    'random_state': 0\n",
    "}\n",
    "\n",
    "# Note the double-splat operator to decompose the dictionary\n",
    "classifier = ensemble.RandomForestClassifier(**classifier_settings)\n",
    "classifier.fit(training_data, training_target)"
   ]
  },
  {
   "cell_type": "code",
   "execution_count": 16,
   "metadata": {
    "collapsed": true
   },
   "outputs": [],
   "source": [
    "# Make predictions\n",
    "predicted = classifier.predict(test_data)\n",
    "expected = test_target"
   ]
  },
  {
   "cell_type": "code",
   "execution_count": 17,
   "metadata": {
    "collapsed": false
   },
   "outputs": [
    {
     "name": "stdout",
     "output_type": "stream",
     "text": [
      "             precision    recall  f1-score   support\n",
      "\n",
      "Iris-setosa       1.00      1.00      1.00        13\n",
      "Iris-versicolor       1.00      0.57      0.73         7\n",
      "Iris-virginica       0.77      1.00      0.87        10\n",
      "\n",
      "avg / total       0.92      0.90      0.89        30\n",
      "\n",
      "\n",
      "Confusion Matrix\n",
      "[[13  0  0]\n",
      " [ 0  4  3]\n",
      " [ 0  0 10]]\n",
      "\n",
      "Features sorted by their score:\n",
      "[(0.4725, u'petal_length'), (0.4231, u'petal_width'), (0.0811, u'sepal_length'), (0.0233, u'sepal_width')]\n"
     ]
    }
   ],
   "source": [
    "# Print results\n",
    "print(metrics.classification_report(expected, predicted))\n",
    "print(\"\\nConfusion Matrix\")\n",
    "print(metrics.confusion_matrix(expected, predicted))\n",
    "\n",
    "print(\"\\nFeatures sorted by their score:\")\n",
    "print(\n",
    "    sorted(\n",
    "        zip(\n",
    "            map(lambda x: round(x, 4), classifier.feature_importances_),\n",
    "            training.columns\n",
    "        ),\n",
    "        reverse=True\n",
    "    )\n",
    ")"
   ]
  },
  {
   "cell_type": "code",
   "execution_count": 18,
   "metadata": {
    "collapsed": false
   },
   "outputs": [
    {
     "data": {
      "image/png": "[encoded data removed]",
      "text/plain": [
       "<matplotlib.figure.Figure at 0x107122850>"
      ]
     },
     "metadata": {},
     "output_type": "display_data"
    }
   ],
   "source": [
    "# Scatter plot in blossom space\n",
    "species = iris_data.groupby('class')\n",
    "fig, ax = plot.subplots()\n",
    "\n",
    "x, y = 'sepal_length', 'sepal_width'\n",
    "\n",
    "flat_data = training.as_matrix([x, y])\n",
    "flat_target = training['code']\n",
    "\n",
    "flat_classifier = ensemble.RandomForestClassifier(**classifier_settings).fit(flat_data, flat_target)\n",
    "\n",
    "plot_step = 0.02\n",
    "x_min, x_max = flat_data[:, 0].min() - 1, flat_data[:, 0].max() + 1\n",
    "y_min, y_max = flat_data[:, 1].min() - 1, flat_data[:, 1].max() + 1\n",
    "xx, yy = numpy.meshgrid(\n",
    "    numpy.arange(x_min, x_max, plot_step),\n",
    "    numpy.arange(y_min, y_max, plot_step)\n",
    ")\n",
    "\n",
    "Z = flat_classifier.predict(numpy.c_[xx.ravel(), yy.ravel()])\n",
    "Z = Z.reshape(xx.shape)\n",
    "cs = plot.contourf(xx, yy, Z, cmap=plot.cm.Paired)\n",
    "\n",
    "for name, group in species:\n",
    "    ax.plot(\n",
    "        group[x],\n",
    "        group[y],\n",
    "        linestyle='',\n",
    "        marker='o',\n",
    "        label=name\n",
    "    )"
   ]
  },
  {
   "cell_type": "code",
   "execution_count": null,
   "metadata": {
    "collapsed": true
   },
   "outputs": [],
   "source": []
  }
 ],
 "metadata": {
  "kernelspec": {
   "display_name": "Python 2",
   "language": "python",
   "name": "python2"
  },
  "language_info": {
   "codemirror_mode": {
    "name": "ipython",
    "version": 2
   },
   "file_extension": ".py",
   "mimetype": "text/x-python",
   "name": "python",
   "nbconvert_exporter": "python",
   "pygments_lexer": "ipython2",
   "version": "2.7.10"
  }
 },
 "nbformat": 4,
 "nbformat_minor": 0
}
